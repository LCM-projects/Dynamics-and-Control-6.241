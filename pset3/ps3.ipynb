{
 "cells": [
  {
   "cell_type": "code",
   "execution_count": 7,
   "metadata": {
    "collapsed": false
   },
   "outputs": [],
   "source": [
    "import sympy\n",
    "from sympy.matrices import *\n",
    "import numpy as np\n",
    "import math\n",
    "import matplotlib.pyplot as plt\n",
    "import tabulate\n",
    "%matplotlib inline  "
   ]
  },
  {
   "cell_type": "markdown",
   "metadata": {},
   "source": [
    "## Problem 3.3"
   ]
  },
  {
   "cell_type": "code",
   "execution_count": 2,
   "metadata": {
    "collapsed": false
   },
   "outputs": [
    {
     "name": "stdout",
     "output_type": "stream",
     "text": [
      "Matrix([[K, K], [-K + 1, -K]])\n"
     ]
    },
    {
     "data": {
      "text/plain": [
       "sqrt(8*K**2 - 4*K + 2*sqrt(4*K**2 + 1)*Abs(2*K - 1) + 2)/2"
      ]
     },
     "execution_count": 2,
     "metadata": {},
     "output_type": "execute_result"
    }
   ],
   "source": [
    "K = sympy.Symbol('K', real=True)\n",
    "M = Matrix([[K,K],[1-K,-K]])\n",
    "print M\n",
    "sv = M.singular_values()\n",
    "expr = sv[0]\n",
    "sympy.simplify(sv[0])"
   ]
  },
  {
   "cell_type": "code",
   "execution_count": 3,
   "metadata": {
    "collapsed": false
   },
   "outputs": [
    {
     "data": {
      "text/plain": [
       "0.707106781186548"
      ]
     },
     "execution_count": 3,
     "metadata": {},
     "output_type": "execute_result"
    }
   ],
   "source": [
    "expr.subs(K, 0.5)"
   ]
  },
  {
   "cell_type": "code",
   "execution_count": 4,
   "metadata": {
    "collapsed": false
   },
   "outputs": [],
   "source": [
    "def func(x):\n",
    "    val = 8*x**2- 4*x + 2*math.sqrt(4*x**2 + 1)*np.absolute(2*x - 1)\n",
    "    return val\n",
    "\n",
    "# def vfunc(x):\n",
    "#     y = 0*x\n",
    "#     for i in xrange(len(x)):\n",
    "#         y[i] = func(x[i])\n",
    "            \n",
    "#     return y\n",
    "\n",
    "vfunc = np.vectorize(func)"
   ]
  },
  {
   "cell_type": "code",
   "execution_count": 5,
   "metadata": {
    "collapsed": false
   },
   "outputs": [
    {
     "data": {
      "image/png": "[encoded data removed]",
      "text/plain": [
       "<matplotlib.figure.Figure at 0x10e2407d0>"
      ]
     },
     "metadata": {},
     "output_type": "display_data"
    },
    {
     "name": "stdout",
     "output_type": "stream",
     "text": [
      "func(0.5)=  0.0\n"
     ]
    }
   ],
   "source": [
    "a = np.linspace(0,1,30)\n",
    "b = vfunc(a)\n",
    "plt.plot(a,b)\n",
    "plt.show()\n",
    "print\"func(0.5)= \", func(0.5)"
   ]
  },
  {
   "cell_type": "markdown",
   "metadata": {
    "collapsed": false
   },
   "source": [
    "## Problem 3.4"
   ]
  },
  {
   "cell_type": "code",
   "execution_count": 28,
   "metadata": {
    "collapsed": false
   },
   "outputs": [
    {
     "name": "stdout",
     "output_type": "stream",
     "text": [
      "[[ 1  1  1]\n",
      " [ 1 -1 -1]\n",
      " [ 0  2 -1]]\n",
      "s =  [ 2.44948974  1.73205081  1.41421356]\n",
      "U =  [[ 0.40824829 -0.57735027 -0.70710678]\n",
      " [-0.40824829  0.57735027 -0.70710678]\n",
      " [ 0.81649658  0.57735027  0.        ]]\n",
      "V =  [[ -0.00000000e+00   1.00000000e+00  -8.88178420e-16]\n",
      " [ -0.00000000e+00  -7.77156117e-16  -1.00000000e+00]\n",
      " [ -1.00000000e+00   0.00000000e+00   0.00000000e+00]]\n",
      "delta  [[ 0.          0.          0.        ]\n",
      " [ 0.          0.          0.        ]\n",
      " [ 0.          0.          1.41421356]]\n",
      "delta_full  [[ 1.  0.  0.]\n",
      " [ 1.  0.  0.]\n",
      " [ 0.  0.  0.]]\n",
      "\n",
      " A latex \n",
      "\\begin{tabular}{rrr}\n",
      "\\hline\n",
      " 1 &  1 &  1 \\\\\n",
      " 1 & -1 & -1 \\\\\n",
      " 0 &  2 & -1 \\\\\n",
      "\\hline\n",
      "\\end{tabular}\n",
      "\n",
      " U latex \n",
      "\\begin{tabular}{rrr}\n",
      "\\hline\n",
      "  0.408248 & -0.57735 & -0.707107 \\\\\n",
      " -0.408248 &  0.57735 & -0.707107 \\\\\n",
      "  0.816497 &  0.57735 &  0        \\\\\n",
      "\\hline\n",
      "\\end{tabular}\n",
      "\n",
      " V latex \n",
      "\\begin{tabular}{rrr}\n",
      "\\hline\n",
      " -0 &  1           & -8.88178e-16 \\\\\n",
      " -0 & -7.77156e-16 & -1           \\\\\n",
      " -1 &  0           &  0           \\\\\n",
      "\\hline\n",
      "\\end{tabular}\n",
      "\n",
      " delta_full latex \n",
      "  \\begin{tabular}{rrr}\n",
      "\\hline\n",
      " 1 & 0 & 0 \\\\\n",
      " 1 & 0 & 0 \\\\\n",
      " 0 & 0 & 0 \\\\\n",
      "\\hline\n",
      "\\end{tabular}\n"
     ]
    }
   ],
   "source": [
    "A = np.array([[1,1,1],[1,-1,-1],[0,2,-1]])\n",
    "print A\n",
    "U, s, V = np.linalg.svd(A, full_matrices=True)\n",
    "print \"s = \", s\n",
    "print \"U = \", U\n",
    "print \"V = \", V\n",
    "\n",
    "delta = np.diag([0,0,s[2]])\n",
    "print \"delta \", delta\n",
    "\n",
    "delta_full = np.dot(U, np.dot(delta, V))\n",
    "print \"delta_full \", delta_full\n",
    "\n",
    "print \"\\n A latex \\n\", tabulate.tabulate(A, tablefmt=\"latex\")\n",
    "print \"\\n U latex \\n\", tabulate.tabulate(U, tablefmt=\"latex\")\n",
    "print \"\\n V latex \\n\", tabulate.tabulate(V, tablefmt=\"latex\")\n",
    "print \"\\n delta_full latex \\n \", tabulate.tabulate(delta_full, tablefmt=\"latex\")"
   ]
  },
  {
   "cell_type": "code",
   "execution_count": 24,
   "metadata": {
    "collapsed": false
   },
   "outputs": [
    {
     "data": {
      "text/plain": [
       "9.9920072216264404e-16"
      ]
     },
     "execution_count": 24,
     "metadata": {},
     "output_type": "execute_result"
    }
   ],
   "source": [
    "np.linalg.det(A - delta_full)"
   ]
  },
  {
   "cell_type": "markdown",
   "metadata": {},
   "source": [
    "\n",
    "\n",
    "\n",
    "\n",
    "\n",
    "\n",
    "\n",
    "\n",
    "\n",
    "\n",
    "\n",
    "\n",
    "\n",
    "\n",
    "\n",
    "\n",
    "\n",
    "\n",
    "\n",
    "\n",
    "\n",
    "\n",
    "\n",
    "\n",
    "\n",
    "\n",
    "\n",
    "\n",
    "\n",
    "\n"
   ]
  }
 ],
 "metadata": {
  "kernelspec": {
   "display_name": "Python 2",
   "language": "python",
   "name": "python2"
  },
  "language_info": {
   "codemirror_mode": {
    "name": "ipython",
    "version": 2
   },
   "file_extension": ".py",
   "mimetype": "text/x-python",
   "name": "python",
   "nbconvert_exporter": "python",
   "pygments_lexer": "ipython2",
   "version": "2.7.12"
  }
 },
 "nbformat": 4,
 "nbformat_minor": 0
}

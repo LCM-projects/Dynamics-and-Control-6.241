{
 "cells": [
  {
   "cell_type": "code",
   "execution_count": 1,
   "metadata": {
    "collapsed": true
   },
   "outputs": [],
   "source": [
    "import sympy\n",
    "from sympy import *"
   ]
  },
  {
   "cell_type": "markdown",
   "metadata": {},
   "source": [
    "# Problem 2"
   ]
  },
  {
   "cell_type": "code",
   "execution_count": 2,
   "metadata": {},
   "outputs": [
    {
     "name": "stdout",
     "output_type": "stream",
     "text": [
      "A_1 = \n",
      " \n",
      "⎡1   1   1   1 ⎤\n",
      "⎢              ⎥\n",
      "⎢-1  -1  1   -1⎥\n",
      "⎢              ⎥\n",
      "⎢0   1   0   1 ⎥\n",
      "⎢              ⎥\n",
      "⎣1   -1  -1  -1⎦\n",
      "A_2 = \n",
      " \n",
      "⎡1  -1  0  1 ⎤\n",
      "⎢            ⎥\n",
      "⎢1  -1  1  -1⎥\n",
      "⎢            ⎥\n",
      "⎢1  1   0  -1⎥\n",
      "⎢            ⎥\n",
      "⎣1  -1  1  -1⎦\n",
      "\n",
      " B = \n",
      "\n",
      "⎡1  0⎤\n",
      "⎢    ⎥\n",
      "⎢0  0⎥\n",
      "⎢    ⎥\n",
      "⎢0  1⎥\n",
      "⎢    ⎥\n",
      "⎣0  0⎦\n",
      "\n",
      " C = \n",
      "\n",
      "⎡1  0  0  0⎤\n",
      "⎢          ⎥\n",
      "⎣0  0  1  0⎦\n"
     ]
    }
   ],
   "source": [
    "s = symbols('s')\n",
    "I_4 = eye(4)\n",
    "A_1 = Matrix([[1,1,1,1],[-1,-1,1,-1],[0,1,0,1],[1,-1,-1,-1]])\n",
    "A_2 = Matrix([[1,-1,0,1],[1,-1,1,-1],[1,1,0,-1],[1,-1,1,-1]])\n",
    "B = Matrix([[1,0],[0,0],[0,1],[0,0]])\n",
    "C = Matrix([[1,0,0,0],[0,0,1,0]])\n",
    "\n",
    "# printing\n",
    "print \"A_1 = \\n \"\n",
    "pprint(A_1)\n",
    "\n",
    "print \"A_2 = \\n \"\n",
    "pprint(A_2)\n",
    "\n",
    "print \"\\n B = \\n\"\n",
    "pprint(B)\n",
    "\n",
    "print \"\\n C = \\n\"\n",
    "pprint(C)"
   ]
  },
  {
   "cell_type": "code",
   "execution_count": 60,
   "metadata": {},
   "outputs": [
    {
     "name": "stdout",
     "output_type": "stream",
     "text": [
      "{0: 2, 1: 1, -2: 1}\n",
      "\n",
      " \n",
      "lam =  -2\n",
      "mult =  1\n",
      "⎡-1/2⎤\n",
      "⎢    ⎥\n",
      "⎢ 2  ⎥\n",
      "⎢    ⎥\n",
      "⎢-3/2⎥\n",
      "⎢    ⎥\n",
      "⎣ 1  ⎦\n",
      "C*p = \n",
      "\n",
      "⎡-1/2⎤\n",
      "⎢    ⎥\n",
      "⎣-3/2⎦\n",
      "\n",
      " \n",
      "lam =  0\n",
      "mult =  2\n",
      "⎡0 ⎤\n",
      "⎢  ⎥\n",
      "⎢-1⎥\n",
      "⎢  ⎥\n",
      "⎢0 ⎥\n",
      "⎢  ⎥\n",
      "⎣1 ⎦\n",
      "C*p = \n",
      "\n",
      "⎡0⎤\n",
      "⎢ ⎥\n",
      "⎣0⎦\n",
      "\n",
      " \n",
      "lam =  1\n",
      "mult =  1\n",
      "⎡1 ⎤\n",
      "⎢  ⎥\n",
      "⎢-1⎥\n",
      "⎢  ⎥\n",
      "⎢0 ⎥\n",
      "⎢  ⎥\n",
      "⎣1 ⎦\n",
      "C*p = \n",
      "\n",
      "⎡1⎤\n",
      "⎢ ⎥\n",
      "⎣0⎦\n"
     ]
    }
   ],
   "source": [
    "eigen_vals = A_1.eigenvals()\n",
    "print eigen_vals\n",
    "eigen_vect = A_1.eigenvects()\n",
    "\n",
    "for d in eigen_vect:\n",
    "    lam = d[0]\n",
    "    multiplicity = d[1]\n",
    "    v = d[2][0]\n",
    "    print \"\\n \\nlam = \", lam\n",
    "    print \"mult = \", multiplicity\n",
    "    pprint(v)\n",
    "    Cp = C*v\n",
    "    print \"C*p = \\n\"\n",
    "    pprint(Cp)"
   ]
  },
  {
   "cell_type": "code",
   "execution_count": 68,
   "metadata": {
    "collapsed": true
   },
   "outputs": [],
   "source": [
    "L = ones(4,2)\n",
    "L[0,1] = 2"
   ]
  },
  {
   "cell_type": "code",
   "execution_count": 69,
   "metadata": {},
   "outputs": [
    {
     "data": {
      "text/plain": [
       "PurePoly(_lambda**4 + 3*_lambda**3 + 5*_lambda**2 - 4*_lambda, _lambda, domain='ZZ')"
      ]
     },
     "execution_count": 69,
     "metadata": {},
     "output_type": "execute_result"
    }
   ],
   "source": [
    "T = A_1 - L*C\n",
    "T.charpoly()"
   ]
  },
  {
   "cell_type": "markdown",
   "metadata": {},
   "source": [
    "## 10.2(b)"
   ]
  },
  {
   "cell_type": "code",
   "execution_count": 102,
   "metadata": {
    "collapsed": true
   },
   "outputs": [],
   "source": [
    "def controllability_matrix(m):\n",
    "    \"\"\"\n",
    "    Returns [B, A*B, A^2*B, A^{m-1}*B]\n",
    "    \"\"\"\n",
    "    T_ctrl = B\n",
    "    for j in xrange(1,m):\n",
    "        T_ctrl = Matrix.hstack(T_ctrl, (A_2**j)*B)\n",
    "    \n",
    "    return T_ctrl\n",
    "\n",
    "\n",
    "def compute_L(m):\n",
    "    T_ctrl = controllability_matrix(m)\n",
    "    pprint(T_ctrl)\n",
    "    print \"\\nm = \", m\n",
    "    print \"rank is \", T_ctrl.rank()\n",
    "\n",
    "    # now recallt that Im(A)^{\\perp} = ker(A').\n",
    "    L_cols = T_ctrl.transpose().nullspace()\n",
    "\n",
    "    L = Matrix.zeros(4,4)\n",
    "    for (idx, L_col) in enumerate(L_cols):\n",
    "        L[idx,:] = L_col.transpose()\n",
    "\n",
    "    print \"\\nL = \\n\",\n",
    "    pprint(L)\n",
    "    return L"
   ]
  },
  {
   "cell_type": "code",
   "execution_count": 109,
   "metadata": {},
   "outputs": [
    {
     "name": "stdout",
     "output_type": "stream",
     "text": [
      "⎡1  0  1  0  1  0 ⎤\n",
      "⎢                 ⎥\n",
      "⎢0  0  1  1  0  -2⎥\n",
      "⎢                 ⎥\n",
      "⎢0  1  1  0  1  0 ⎥\n",
      "⎢                 ⎥\n",
      "⎣0  0  1  1  0  -2⎦\n",
      "\n",
      "m =  3\n",
      "rank is  3\n",
      "\n",
      "L = \n",
      "⎡0  -1  0  1⎤\n",
      "⎢           ⎥\n",
      "⎢0  0   0  0⎥\n",
      "⎢           ⎥\n",
      "⎢0  0   0  0⎥\n",
      "⎢           ⎥\n",
      "⎣0  0   0  0⎦\n"
     ]
    },
    {
     "data": {
      "text/plain": [
       "Matrix([\n",
       "[0, -1, 0, 1],\n",
       "[0,  0, 0, 0],\n",
       "[0,  0, 0, 0],\n",
       "[0,  0, 0, 0]])"
      ]
     },
     "execution_count": 109,
     "metadata": {},
     "output_type": "execute_result"
    }
   ],
   "source": [
    "compute_L(3)"
   ]
  },
  {
   "cell_type": "code",
   "execution_count": null,
   "metadata": {
    "collapsed": true
   },
   "outputs": [],
   "source": []
  }
 ],
 "metadata": {
  "kernelspec": {
   "display_name": "Python 2",
   "language": "python",
   "name": "python2"
  },
  "language_info": {
   "codemirror_mode": {
    "name": "ipython",
    "version": 2
   },
   "file_extension": ".py",
   "mimetype": "text/x-python",
   "name": "python",
   "nbconvert_exporter": "python",
   "pygments_lexer": "ipython2",
   "version": "2.7.6"
  }
 },
 "nbformat": 4,
 "nbformat_minor": 2
}

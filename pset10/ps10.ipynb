{
 "cells": [
  {
   "cell_type": "code",
   "execution_count": 8,
   "metadata": {
    "collapsed": true
   },
   "outputs": [],
   "source": [
    "import numpy as np\n",
    "import tabulate\n",
    "import scipy\n",
    "import scipy.signal"
   ]
  },
  {
   "cell_type": "markdown",
   "metadata": {},
   "source": [
    "# Problem 10.1"
   ]
  },
  {
   "cell_type": "markdown",
   "metadata": {},
   "source": [
    "## 10.1(a)"
   ]
  },
  {
   "cell_type": "code",
   "execution_count": 19,
   "metadata": {},
   "outputs": [
    {
     "name": "stdout",
     "output_type": "stream",
     "text": [
      " shape T_obs =  (6, 3)\n",
      "ctrl_rank =  3\n",
      "obs_rank =  3\n"
     ]
    }
   ],
   "source": [
    "# form minimal state space realization\n",
    "N = 3\n",
    "A = np.array([[1,0,0],[0,2,0],[0,0,1]])\n",
    "B = np.array([[1,0],[1,1],[0,1]])\n",
    "C = np.array([[1,1,0],[0,1,1]])\n",
    "C_2 = -C\n",
    "\n",
    "# controllability matrix\n",
    "T_ctrl = np.hstack((B, np.dot(A,B), np.dot(A,np.dot(A,B))))\n",
    "T_obs = np.vstack((C,np.dot(C,A),np.dot(C,np.dot(A,A))))\n",
    "\n",
    "np.shape(T_ctrl)\n",
    "print \" shape T_obs = \", np.shape(T_obs)\n",
    "ctrl_rank = np.linalg.matrix_rank(T_ctrl)\n",
    "obs_rank = np.linalg.matrix_rank(T_obs)\n",
    "\n",
    "print \"ctrl_rank = \", ctrl_rank\n",
    "print \"obs_rank = \", obs_rank"
   ]
  },
  {
   "cell_type": "code",
   "execution_count": 21,
   "metadata": {},
   "outputs": [
    {
     "name": "stdout",
     "output_type": "stream",
     "text": [
      "[-1.00002    -1.00001    -1.00000765]\n",
      "('F = \\n', array([[-1.00613049,  4.50920321, -3.00614049],\n",
      "       [-2.99392481,  4.49087974, -0.99391481]]))\n",
      "[[-1.00613049 -2.99392481]\n",
      " [ 4.50920321  4.49087974]\n",
      " [-3.00614049 -0.99391481]]\n"
     ]
    }
   ],
   "source": [
    "eps = 1e-5\n",
    "poles = np.array([-1,-(1 + eps),-(1 + 2*eps)])\n",
    "full_state_feedback = scipy.signal.place_poles(A,B,poles)\n",
    "F = full_state_feedback.gain_matrix\n",
    "print(full_state_feedback.computed_poles)\n",
    "print(\"F = \\n\", F)\n",
    "\n",
    "observer = scipy.signal.place_poles(A.transpose(), C_2.transpose(), poles)\n",
    "L = -observer.gain_matrix\n",
    "L = L.transpose()\n",
    "print(L)"
   ]
  },
  {
   "cell_type": "code",
   "execution_count": 3,
   "metadata": {},
   "outputs": [
    {
     "name": "stdout",
     "output_type": "stream",
     "text": [
      "\\begin{tabular}{rrr}\n",
      "\\hline\n",
      " 1 & 0 & 0 \\\\\n",
      " 0 & 2 & 0 \\\\\n",
      " 0 & 0 & 1 \\\\\n",
      "\\hline\n",
      "\\end{tabular}\n",
      "\\begin{tabular}{rr}\n",
      "\\hline\n",
      " 1 & 0 \\\\\n",
      " 1 & 1 \\\\\n",
      " 0 & 1 \\\\\n",
      "\\hline\n",
      "\\end{tabular}\n",
      "\\begin{tabular}{rrr}\n",
      "\\hline\n",
      " 1 & 1 & 0 \\\\\n",
      " 0 & 1 & 1 \\\\\n",
      "\\hline\n",
      "\\end{tabular}\n",
      "\\begin{tabular}{rrrrrr}\n",
      "\\hline\n",
      " 1 & 0 & 1 & 0 & 1 & 0 \\\\\n",
      " 1 & 1 & 2 & 2 & 4 & 4 \\\\\n",
      " 0 & 1 & 0 & 1 & 0 & 1 \\\\\n",
      "\\hline\n",
      "\\end{tabular}\n",
      "\\begin{tabular}{rrr}\n",
      "\\hline\n",
      " 1 & 1 & 0 \\\\\n",
      " 0 & 1 & 1 \\\\\n",
      " 1 & 2 & 0 \\\\\n",
      " 0 & 2 & 1 \\\\\n",
      " 1 & 4 & 0 \\\\\n",
      " 0 & 4 & 1 \\\\\n",
      "\\hline\n",
      "\\end{tabular}\n"
     ]
    }
   ],
   "source": [
    "print tabulate.tabulate(A, tablefmt='latex')\n",
    "print tabulate.tabulate(B, tablefmt='latex')\n",
    "print tabulate.tabulate(C, tablefmt='latex')\n",
    "print tabulate.tabulate(T_ctrl, tablefmt='latex')\n",
    "print tabulate.tabulate(T_obs, tablefmt='latex')"
   ]
  },
  {
   "cell_type": "code",
   "execution_count": 6,
   "metadata": {},
   "outputs": [
    {
     "name": "stdout",
     "output_type": "stream",
     "text": [
      "[[1 1 0]\n",
      " [0 1 1]]\n"
     ]
    }
   ],
   "source": [
    "print(C)"
   ]
  },
  {
   "cell_type": "code",
   "execution_count": null,
   "metadata": {
    "collapsed": true
   },
   "outputs": [],
   "source": []
  }
 ],
 "metadata": {
  "kernelspec": {
   "display_name": "Python 2",
   "language": "python",
   "name": "python2"
  },
  "language_info": {
   "codemirror_mode": {
    "name": "ipython",
    "version": 2
   },
   "file_extension": ".py",
   "mimetype": "text/x-python",
   "name": "python",
   "nbconvert_exporter": "python",
   "pygments_lexer": "ipython2",
   "version": "2.7.6"
  }
 },
 "nbformat": 4,
 "nbformat_minor": 1
}

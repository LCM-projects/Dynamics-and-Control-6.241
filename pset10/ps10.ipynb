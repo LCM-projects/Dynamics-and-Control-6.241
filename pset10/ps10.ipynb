{
 "cells": [
  {
   "cell_type": "code",
   "execution_count": 29,
   "metadata": {
    "collapsed": true
   },
   "outputs": [],
   "source": [
    "import numpy as np\n",
    "import tabulate"
   ]
  },
  {
   "cell_type": "markdown",
   "metadata": {},
   "source": [
    "# Problem 10.1"
   ]
  },
  {
   "cell_type": "markdown",
   "metadata": {},
   "source": [
    "## 10.1(a)"
   ]
  },
  {
   "cell_type": "code",
   "execution_count": 28,
   "metadata": {
    "collapsed": false
   },
   "outputs": [
    {
     "name": "stdout",
     "output_type": "stream",
     "text": [
      " shape T_obs =  (6, 3)\n",
      "ctrl_rank =  3\n",
      "obs_rank =  3\n"
     ]
    }
   ],
   "source": [
    "# form minimal state space realization\n",
    "N = 3\n",
    "A = np.array([[1,0,0],[0,2,0],[0,0,1]])\n",
    "B = np.array([[1,0],[1,1],[0,1]])\n",
    "C = np.array([[1,1,0],[0,1,1]])\n",
    "\n",
    "\n",
    "# controllability matrix\n",
    "T_ctrl = np.hstack((B, np.dot(A,B), np.dot(A,np.dot(A,B))))\n",
    "T_obs = np.vstack((C,np.dot(C,A),np.dot(C,np.dot(A,A))))\n",
    "\n",
    "np.shape(T_ctrl)\n",
    "print \" shape T_obs = \", np.shape(T_obs)\n",
    "ctrl_rank = np.linalg.matrix_rank(T_ctrl)\n",
    "obs_rank = np.linalg.matrix_rank(T_obs)\n",
    "\n",
    "print \"ctrl_rank = \", ctrl_rank\n",
    "print \"obs_rank = \", obs_rank"
   ]
  },
  {
   "cell_type": "code",
   "execution_count": 36,
   "metadata": {
    "collapsed": false
   },
   "outputs": [
    {
     "name": "stdout",
     "output_type": "stream",
     "text": [
      "\\begin{tabular}{rrr}\n",
      "\\hline\n",
      " 1 & 0 & 0 \\\\\n",
      " 0 & 2 & 0 \\\\\n",
      " 0 & 0 & 1 \\\\\n",
      "\\hline\n",
      "\\end{tabular}\n",
      "\\begin{tabular}{rr}\n",
      "\\hline\n",
      " 1 & 0 \\\\\n",
      " 1 & 1 \\\\\n",
      " 0 & 1 \\\\\n",
      "\\hline\n",
      "\\end{tabular}\n",
      "\\begin{tabular}{rrr}\n",
      "\\hline\n",
      " 1 & 1 & 0 \\\\\n",
      " 0 & 1 & 1 \\\\\n",
      "\\hline\n",
      "\\end{tabular}\n",
      "\\begin{tabular}{rrrrrr}\n",
      "\\hline\n",
      " 1 & 0 & 1 & 0 & 1 & 0 \\\\\n",
      " 1 & 1 & 2 & 2 & 4 & 4 \\\\\n",
      " 0 & 1 & 0 & 1 & 0 & 1 \\\\\n",
      "\\hline\n",
      "\\end{tabular}\n",
      "\\begin{tabular}{rrr}\n",
      "\\hline\n",
      " 1 & 1 & 0 \\\\\n",
      " 0 & 1 & 1 \\\\\n",
      " 1 & 2 & 0 \\\\\n",
      " 0 & 2 & 1 \\\\\n",
      " 1 & 4 & 0 \\\\\n",
      " 0 & 4 & 1 \\\\\n",
      "\\hline\n",
      "\\end{tabular}\n"
     ]
    }
   ],
   "source": [
    "print tabulate.tabulate(A, tablefmt='latex')\n",
    "print tabulate.tabulate(B, tablefmt='latex')\n",
    "print tabulate.tabulate(C, tablefmt='latex')\n",
    "print tabulate.tabulate(T_ctrl, tablefmt='latex')\n",
    "print tabulate.tabulate(T_obs, tablefmt='latex')"
   ]
  },
  {
   "cell_type": "code",
   "execution_count": 63,
   "metadata": {
    "collapsed": false
   },
   "outputs": [
    {
     "name": "stdout",
     "output_type": "stream",
     "text": [
      "[[-2  0  0]\n",
      " [ 0 -3  0]\n",
      " [ 0  0 -2]]\n",
      "[[ 0.66666667 -0.33333333]\n",
      " [-0.33333333  0.66666667]]\n",
      "[[-1.33333333 -1.          0.66666667]\n",
      " [ 0.66666667 -1.         -1.33333333]]\n"
     ]
    }
   ],
   "source": [
    "B_pinv = np.linalg.inv(np.dot(B.transpose(),B))\n",
    "D = np.diag([-2,-3,-2])\n",
    "\n",
    "F = np.dot(B_pinv, np.dot(B.transpose(), D))\n",
    "print D\n",
    "print B_pinv\n",
    "print F"
   ]
  },
  {
   "cell_type": "code",
   "execution_count": 74,
   "metadata": {
    "collapsed": false
   },
   "outputs": [
    {
     "name": "stdout",
     "output_type": "stream",
     "text": [
      "[[-0.33333333 -1.          0.66666667]\n",
      " [-0.66666667  0.         -0.66666667]\n",
      " [ 0.66666667 -1.         -0.33333333]]\n",
      "[[ 0.66666667  0.33333333 -0.33333333]\n",
      " [-0.33333333  0.33333333  0.66666667]]\n"
     ]
    }
   ],
   "source": [
    "B_pinv = np.linalg.pinv(B)\n",
    "F = np.dot(B_pinv, D)\n",
    "test = A + np.dot(B,F)\n",
    "print test\n",
    "\n",
    "test2 = np.dot(B_pinv, B)\n",
    "print B_pinv"
   ]
  },
  {
   "cell_type": "code",
   "execution_count": null,
   "metadata": {
    "collapsed": true
   },
   "outputs": [],
   "source": []
  }
 ],
 "metadata": {
  "kernelspec": {
   "display_name": "Python 2",
   "language": "python",
   "name": "python2"
  },
  "language_info": {
   "codemirror_mode": {
    "name": "ipython",
    "version": 2
   },
   "file_extension": ".py",
   "mimetype": "text/x-python",
   "name": "python",
   "nbconvert_exporter": "python",
   "pygments_lexer": "ipython2",
   "version": "2.7.12"
  }
 },
 "nbformat": 4,
 "nbformat_minor": 0
}

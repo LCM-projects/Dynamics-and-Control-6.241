{
 "cells": [
  {
   "cell_type": "code",
   "execution_count": 2,
   "metadata": {
    "collapsed": false
   },
   "outputs": [],
   "source": [
    "using SymPy"
   ]
  },
  {
   "cell_type": "markdown",
   "metadata": {},
   "source": [
    "# Problem 1"
   ]
  },
  {
   "cell_type": "code",
   "execution_count": 19,
   "metadata": {
    "collapsed": false
   },
   "outputs": [
    {
     "data": {
      "text/plain": [
       "2-element Array{Float64,1}:\n",
       " 0.333333\n",
       " 0.333333"
      ]
     },
     "execution_count": 19,
     "metadata": {},
     "output_type": "execute_result"
    }
   ],
   "source": [
    "A = [0 0 ; 0 1; 1 0; 1 1]\n",
    "y = [0;0;0;1]\n",
    "x = inv(transpose(A)*A)*transpose(A)*y"
   ]
  },
  {
   "cell_type": "markdown",
   "metadata": {},
   "source": [
    "# Problem 2"
   ]
  },
  {
   "cell_type": "code",
   "execution_count": 4,
   "metadata": {
    "collapsed": false
   },
   "outputs": [
    {
     "data": {
      "text/plain": [
       "(v_0,v_1,T)"
      ]
     },
     "execution_count": 4,
     "metadata": {},
     "output_type": "execute_result"
    }
   ],
   "source": [
    "@vars v_0 v_1 T"
   ]
  },
  {
   "cell_type": "code",
   "execution_count": 5,
   "metadata": {
    "collapsed": false
   },
   "outputs": [
    {
     "data": {
      "text/latex": [
       "\\begin{bmatrix}T&0.5 T^{2}\\\\0.5 T^{2}&0.166666666666667 T^{3}\\end{bmatrix}"
      ],
      "text/plain": [
       "2×2 Array{SymPy.Sym,2}\n",
       "[                    2       ]\n",
       "[  T            0.5*T        ]\n",
       "[                            ]\n",
       "[     2                     3]\n",
       "[0.5*T   0.166666666666667*T ]"
      ]
     },
     "execution_count": 5,
     "metadata": {},
     "output_type": "execute_result"
    }
   ],
   "source": [
    "b = [-v_1; -v_0 - v_1*T]\n",
    "A = [T 1/2*T^2; 1/2*T^2 1/6*T^3]"
   ]
  },
  {
   "cell_type": "code",
   "execution_count": 6,
   "metadata": {
    "collapsed": false
   },
   "outputs": [
    {
     "name": "stdout",
     "output_type": "stream",
     "text": [
      "c_0 = -(4.0*T*v_1 + 6.0*v_0)/T^2\n",
      "c_1 = (6.0*T*v_1 + 12.0*v_0)/T^3\n"
     ]
    }
   ],
   "source": [
    "c = inv(A) * b\n",
    "c_0 = simplify(c[1])\n",
    "c_1 = simplify(c[2])\n",
    "println(\"c_0 = \", c_0)\n",
    "println(\"c_1 = \", c_1)"
   ]
  },
  {
   "cell_type": "markdown",
   "metadata": {},
   "source": [
    "# Problem 3"
   ]
  },
  {
   "cell_type": "code",
   "execution_count": 24,
   "metadata": {
    "collapsed": false
   },
   "outputs": [
    {
     "name": "stdout",
     "output_type": "stream",
     "text": [
      "A_L = [1 0 0 1; 1 1 0 1; 0 0 1 0; 0 0 1 1]\n",
      "A_R = [1 0 1 1; 0 1 0 1; 0 0 1 0; 0 0 0 1]\n"
     ]
    }
   ],
   "source": [
    "A_L = [1 0 0 1; 1 1 0 1; 0 0 1 0; 0 0 1 1]\n",
    "println(\"A_L = \", A_L)\n",
    "A_R = [1 0 1 1; 0 1 0 1; 0 0 1 0; 0 0 0 1]\n",
    "println(\"A_R = \", A_R)"
   ]
  },
  {
   "cell_type": "code",
   "execution_count": 31,
   "metadata": {
    "collapsed": false
   },
   "outputs": [
    {
     "ename": "LoadError",
     "evalue": "MethodError: no method matching jordan_form(::Array{Int64,2})\u001b[0m\nClosest candidates are:\n  jordan_form(\u001b[1m\u001b[31m::Array{SymPy.Sym,2}\u001b[0m, \u001b[1m\u001b[31m::Any...\u001b[0m; kwargs...) at /home/manuelli/.julia/v0.5/SymPy/src/matrix.jl:130\u001b[0m",
     "output_type": "error",
     "traceback": [
      "MethodError: no method matching jordan_form(::Array{Int64,2})\u001b[0m\nClosest candidates are:\n  jordan_form(\u001b[1m\u001b[31m::Array{SymPy.Sym,2}\u001b[0m, \u001b[1m\u001b[31m::Any...\u001b[0m; kwargs...) at /home/manuelli/.julia/v0.5/SymPy/src/matrix.jl:130\u001b[0m",
      ""
     ]
    }
   ],
   "source": [
    "A_L_sym = SymPy.Matrix(A_L)\n",
    "jordan_form(A_L)"
   ]
  },
  {
   "cell_type": "code",
   "execution_count": null,
   "metadata": {
    "collapsed": true
   },
   "outputs": [],
   "source": []
  }
 ],
 "metadata": {
  "kernelspec": {
   "display_name": "Julia 0.5.0",
   "language": "julia",
   "name": "julia-0.5"
  },
  "language_info": {
   "file_extension": ".jl",
   "mimetype": "application/julia",
   "name": "julia",
   "version": "0.5.0"
  }
 },
 "nbformat": 4,
 "nbformat_minor": 2
}

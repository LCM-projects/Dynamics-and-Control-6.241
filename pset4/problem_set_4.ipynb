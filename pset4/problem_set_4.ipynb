{
 "cells": [
  {
   "cell_type": "code",
   "execution_count": 57,
   "metadata": {
    "collapsed": false
   },
   "outputs": [],
   "source": [
    "import numpy\n",
    "from sympy import Matrix\n",
    "import tabulate"
   ]
  },
  {
   "cell_type": "markdown",
   "metadata": {},
   "source": [
    "## Problem 4.1"
   ]
  },
  {
   "cell_type": "code",
   "execution_count": 48,
   "metadata": {
    "collapsed": false
   },
   "outputs": [],
   "source": [
    "A = np.zeros((4,4))\n",
    "A[0,:] = [-1.5, 1, 0.5, 0]\n",
    "A[1,:] = [1, -1.5, 0, 0.5]\n",
    "A[2,:] = [0.5, 0, -1.5, 1]\n",
    "A[3,:] = [0, 0.5, 1, -1.5]\n",
    "\n",
    "A_sym = Matrix(A)\n",
    "P_orig,J_orig = A_sym.jordan_form()\n",
    "\n",
    "J = 0*J_orig\n",
    "P = 0*P_orig\n",
    "col_map = dict()\n",
    "col_map = [3,2,1,0]\n",
    "T = Matrix.zeros(4,4)\n",
    "for idx, val in enumerate(col_map):\n",
    "    T[val,idx] = 1\n",
    "\n",
    "for i in xrange(0,4):\n",
    "    for j in xrange(0,4):\n",
    "        J[i,j] = J_orig[col_map[i], col_map[j]]\n",
    "        P[i,j] = P_orig[col_map[i], col_map[j]]"
   ]
  },
  {
   "cell_type": "code",
   "execution_count": 49,
   "metadata": {
    "collapsed": false
   },
   "outputs": [
    {
     "data": {
      "text/plain": [
       "Matrix([\n",
       "[-1.5,  1.0,  0.5,    0],\n",
       "[ 1.0, -1.5,    0,  0.5],\n",
       "[ 0.5,    0, -1.5,  1.0],\n",
       "[   0,  0.5,  1.0, -1.5]])"
      ]
     },
     "execution_count": 49,
     "metadata": {},
     "output_type": "execute_result"
    }
   ],
   "source": [
    "P*J*P.inv()"
   ]
  },
  {
   "cell_type": "code",
   "execution_count": 50,
   "metadata": {
    "collapsed": false
   },
   "outputs": [],
   "source": [
    "S = 4*P.inv()\n",
    "S_inv = S.inv() # this is just S/4\n",
    "C = np.array([[1,0,0,0],[0,1,0,0]])"
   ]
  },
  {
   "cell_type": "markdown",
   "metadata": {},
   "source": [
    "### Latex Printing"
   ]
  },
  {
   "cell_type": "code",
   "execution_count": 69,
   "metadata": {
    "collapsed": false
   },
   "outputs": [
    {
     "name": "stdout",
     "output_type": "stream",
     "text": [
      "A = \n",
      "\\begin{tabular}{rrrr}\n",
      "\\hline\n",
      " -1.5 &  1   &  0.5 &  0   \\\\\n",
      "  1   & -1.5 &  0   &  0.5 \\\\\n",
      "  0.5 &  0   & -1.5 &  1   \\\\\n",
      "  0   &  0.5 &  1   & -1.5 \\\\\n",
      "\\hline\n",
      "\\end{tabular}\n",
      "\n",
      "S = \n",
      "\\begin{tabular}{rrrr}\n",
      "\\hline\n",
      " 1 &  1 &  1 &  1 \\\\\n",
      " 1 &  1 & -1 & -1 \\\\\n",
      " 1 & -1 &  1 & -1 \\\\\n",
      " 1 & -1 & -1 &  1 \\\\\n",
      "\\hline\n",
      "\\end{tabular}\n",
      "\n",
      "J = \n",
      "\\begin{tabular}{rrrr}\n",
      "\\hline\n",
      " 0 &  0 &  0 &  0 \\\\\n",
      " 0 & -1 &  0 &  0 \\\\\n",
      " 0 &  0 & -2 &  0 \\\\\n",
      " 0 &  0 &  0 & -3 \\\\\n",
      "\\hline\n",
      "\\end{tabular}\n",
      "J = \n",
      "\\begin{tabular}{rrrr}\n",
      "\\hline\n",
      " 0.25 & 0.25 &  0.25 &  0.25 \\\\\n",
      " 0.25 & 0.25 & -0.25 & -0.25 \\\\\n",
      "\\hline\n",
      "\\end{tabular}\n"
     ]
    }
   ],
   "source": [
    "print \"A = \\n\", tabulate.tabulate(A, tablefmt=\"latex\")\n",
    "print \"\"\n",
    "print \"S = \\n\", tabulate.tabulate(np.array(S).astype(np.float64), tablefmt=\"latex\")\n",
    "print \"\"\n",
    "print \"J = \\n\", tabulate.tabulate(np.array(J).astype(np.float64), tablefmt=\"latex\")\n",
    "print \"J = \\n\", tabulate.tabulate(np.array(C*S_inv).astype(np.float64), tablefmt=\"latex\")\n"
   ]
  },
  {
   "cell_type": "code",
   "execution_count": 67,
   "metadata": {
    "collapsed": false
   },
   "outputs": [
    {
     "data": {
      "text/plain": [
       "Matrix([\n",
       "[-1.5,  1.0,  0.5,    0],\n",
       "[ 1.0, -1.5,    0,  0.5],\n",
       "[ 0.5,    0, -1.5,  1.0],\n",
       "[   0,  0.5,  1.0, -1.5]])"
      ]
     },
     "execution_count": 67,
     "metadata": {},
     "output_type": "execute_result"
    }
   ],
   "source": [
    "S_inv*J*S"
   ]
  },
  {
   "cell_type": "code",
   "execution_count": null,
   "metadata": {
    "collapsed": false
   },
   "outputs": [],
   "source": []
  },
  {
   "cell_type": "code",
   "execution_count": null,
   "metadata": {
    "collapsed": true
   },
   "outputs": [],
   "source": []
  }
 ],
 "metadata": {
  "kernelspec": {
   "display_name": "Python 2",
   "language": "python",
   "name": "python2"
  },
  "language_info": {
   "codemirror_mode": {
    "name": "ipython",
    "version": 2
   },
   "file_extension": ".py",
   "mimetype": "text/x-python",
   "name": "python",
   "nbconvert_exporter": "python",
   "pygments_lexer": "ipython2",
   "version": "2.7.6"
  }
 },
 "nbformat": 4,
 "nbformat_minor": 0
}

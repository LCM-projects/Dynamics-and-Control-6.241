{
 "cells": [
  {
   "cell_type": "code",
   "execution_count": 6,
   "metadata": {
    "collapsed": false
   },
   "outputs": [
    {
     "data": {
      "text/plain": [
       "<function sympy.interactive.session.init_session>"
      ]
     },
     "execution_count": 6,
     "metadata": {},
     "output_type": "execute_result"
    }
   ],
   "source": [
    "import sympy\n",
    "from sympy import *\n",
    "from sympy.matrices import *\n",
    "import numpy as np\n",
    "import math\n",
    "import matplotlib.pyplot as plt\n",
    "import tabulate\n",
    "from mpmath import mp\n",
    "%matplotlib inline \n",
    "init_session"
   ]
  },
  {
   "cell_type": "markdown",
   "metadata": {},
   "source": [
    "# Problem 9.1"
   ]
  },
  {
   "cell_type": "code",
   "execution_count": 99,
   "metadata": {
    "collapsed": false
   },
   "outputs": [],
   "source": [
    "b_0, b_1, b_2 = sympy.symbols(\"b_0, b_1 b_2\")\n",
    "C = sympy.Matrix([[b_0, b_1, b_2]])\n",
    "# C = sympy.MatrixSymbol('C', 1, 3) # C = [b_0, b_1, b_2]\n",
    "# P = sympy.MatrixSymbol('P', 3, 3)\n",
    "p_11, p_12, p_13 = sympy.symbols(\"p_11 p_12 p_13\")\n",
    "p_22, p_23 = sympy.symbols(\"p_22 p_23\")\n",
    "p_33 =  sympy.symbols(\"p_33\")\n",
    "\n",
    "P = sympy.Matrix([[0.5*p_11, p_12, p_13],[0, 0.5*p_22, p_23], [0, 0, 0.5*p_33]])\n",
    "P = P + P.transpose()\n",
    "a = sympy.symbols(\"a\")\n",
    "A = sympy.Matrix([[0,1,0], [0,0,1], [-1,-1,-a]])\n",
    "B = sympy.Matrix([[0],[0],[1]])\n",
    "Q = C.transpose()*C"
   ]
  },
  {
   "cell_type": "code",
   "execution_count": 100,
   "metadata": {
    "collapsed": false
   },
   "outputs": [],
   "source": [
    "m = P*A + A.transpose()*P\n",
    "variables = (p_11, p_12, p_13, p_22, p_23, p_33)\n",
    "eqns = []\n",
    "for i in xrange(0,3):\n",
    "    for j in xrange(i,3):\n",
    "        eqns.append(m[i,j] + Q[i,j])\n"
   ]
  },
  {
   "cell_type": "code",
   "execution_count": 101,
   "metadata": {
    "collapsed": false
   },
   "outputs": [],
   "source": [
    "soln = linsolve(eqns, variables)"
   ]
  },
  {
   "cell_type": "code",
   "execution_count": 102,
   "metadata": {
    "collapsed": false
   },
   "outputs": [
    {
     "data": {
      "text/plain": [
       "0.5*(a*b_0**2 - 2*b_0*b_2 + b_1**2 + b_2**2)/(a - 1)"
      ]
     },
     "execution_count": 102,
     "metadata": {},
     "output_type": "execute_result"
    }
   ],
   "source": [
    "tsoln.args"
   ]
  },
  {
   "cell_type": "markdown",
   "metadata": {},
   "source": [
    "# Problem 9.2"
   ]
  },
  {
   "cell_type": "code",
   "execution_count": 80,
   "metadata": {
    "collapsed": true
   },
   "outputs": [],
   "source": [
    "a, b = sympy.symbols(\"a b\", real=True)\n",
    "w = sympy.symbols(\"w\", real=True)\n",
    "# a = 10\n",
    "b = -2\n",
    "# b = - 4\n",
    "# a = 2 - np.sqrt(3)\n",
    "A = sympy.Matrix([[-1,0,0,0],[0, a, 0, 0],[0,1,-b,1],[0,-1,-1,0]])\n",
    "B_1 = sympy.Matrix([[1,0],[0,0],[0,1],[0,-1]])\n",
    "B_2 = sympy.Matrix([[0],[1],[0],[0]])\n",
    "C_2 = sympy.Matrix([[1,0,-1,0]])\n",
    "D_21 = sympy.Matrix([[0,0]])\n",
    "C_1 = sympy.Matrix([[1,0,-1,0],[0,0,0,0]])\n",
    "D_11 = sympy.Matrix([[0,0],[0,0]])\n",
    "D_12 = sympy.Matrix([[0],[1]])"
   ]
  },
  {
   "cell_type": "code",
   "execution_count": 81,
   "metadata": {
    "collapsed": false
   },
   "outputs": [
    {
     "name": "stdout",
     "output_type": "stream",
     "text": [
      "3\n"
     ]
    }
   ],
   "source": [
    "lam = A.eigenvals()\n",
    "print(len(lam))\n",
    "vec_r = A.eigenvects()\n",
    "vec_l = A.transpose().eigenvects()"
   ]
  },
  {
   "cell_type": "code",
   "execution_count": 82,
   "metadata": {
    "collapsed": false
   },
   "outputs": [
    {
     "name": "stdout",
     "output_type": "stream",
     "text": [
      "(4, 1)\n",
      "eigen_val =  -1\n",
      "multiplicity =  1\n",
      "eigenvector = \n",
      "Matrix([[0], [1], [0], [0]])\n",
      "\n",
      " p*B = \n",
      "\n",
      "0\n",
      "\n",
      "\n",
      "\n",
      "\n",
      " C_2*p = \n",
      " \n",
      "1\n",
      "\n",
      "\n",
      "\n",
      "\n",
      "(4, 1)\n",
      "eigen_val =  1\n",
      "multiplicity =  2\n",
      "eigenvector = \n",
      "Matrix([[0], [1], [0], [0]])\n",
      "\n",
      " p*B = \n",
      "\n",
      "0\n",
      "\n",
      "\n",
      "\n",
      "\n",
      " C_2*p = \n",
      " \n",
      "1\n",
      "\n",
      "\n",
      "\n",
      "\n",
      "(4, 1)\n",
      "eigen_val =  a\n",
      "multiplicity =  1\n",
      "eigenvector = \n",
      "Matrix([[0], [1], [0], [0]])\n",
      "\n",
      " p*B = \n",
      "\n",
      "1\n",
      "\n",
      "\n",
      "\n",
      "\n",
      " C_2*p = \n",
      " \n",
      "1\n",
      "\n",
      "\n",
      "\n",
      "\n"
     ]
    }
   ],
   "source": [
    "for idx in xrange(0,len(vec_l)):\n",
    "    d_r = vec_r[idx]\n",
    "    d_l = vec_l[idx]\n",
    "    \n",
    "    eigen_val = d_r[0]\n",
    "    multiplicity = d_r[1]\n",
    "    vR = d_r[2][0]\n",
    "    vL = d_l[2][0]\n",
    "    \n",
    "    pB = vL.transpose()*B_2\n",
    "    Cp = C_2*vR\n",
    "    \n",
    "    print(v.shape)\n",
    "    print\"eigen_val = \", eigen_val\n",
    "    print\"multiplicity = \", multiplicity\n",
    "    print'eigenvector = \\n', v\n",
    "    print \"\\n p*B = \\n\"\n",
    "    print latex(pB[0])\n",
    "    print \"\\n\\n\"\n",
    "#     print latex(pB)\n",
    "    print \"\\n C_2*p = \\n \"\n",
    "    print latex(Cp[0])\n",
    "#     print latex(Cp)\n",
    "    print(\"\\n\\n\\n\")\n",
    "    "
   ]
  },
  {
   "cell_type": "markdown",
   "metadata": {},
   "source": [
    "# 9.2 (d)"
   ]
  },
  {
   "cell_type": "code",
   "execution_count": 205,
   "metadata": {
    "collapsed": false
   },
   "outputs": [
    {
     "data": {
      "image/png": "[encoded data removed]",
      "text/latex": [
       "$$\\left[\\begin{matrix}- i w - 1 & 0 & 0 & 0 & 0\\\\0 & a - i w & 0 & 0 & 1\\\\0 & 1 & b - i w & 1 & 0\\\\0 & -1 & -1 & - i w & 0\\\\1 & 0 & -1 & 0 & 0\\\\0 & 0 & 0 & 0 & 1\\end{matrix}\\right]$$"
      ],
      "text/plain": [
       "⎡-ⅈ⋅w - 1     0        0      0    0⎤\n",
       "⎢                                   ⎥\n",
       "⎢   0      a - ⅈ⋅w     0      0    1⎥\n",
       "⎢                                   ⎥\n",
       "⎢   0         1     b - ⅈ⋅w   1    0⎥\n",
       "⎢                                   ⎥\n",
       "⎢   0        -1       -1     -ⅈ⋅w  0⎥\n",
       "⎢                                   ⎥\n",
       "⎢   1         0       -1      0    0⎥\n",
       "⎢                                   ⎥\n",
       "⎣   0         0        0      0    1⎦"
      ]
     },
     "execution_count": 205,
     "metadata": {},
     "output_type": "execute_result"
    }
   ],
   "source": [
    "# form the matrix to test for controllability\n",
    "# T = sympy.Matrix([[A - sympy.I*w*sympy.Matrix.eye(4), B_2],[C_1, D_12]])\n",
    "N = 4\n",
    "# sympy.Matrix([T_11, B_2])\n",
    "temp = A - sympy.I*w*sympy.Matrix.eye(4)\n",
    "T_1 = temp.row_join(B_2)\n",
    "T_2 = C_1.row_join(D_12)\n",
    "T = T_1.col_join(T_2)\n",
    "T"
   ]
  },
  {
   "cell_type": "code",
   "execution_count": 202,
   "metadata": {
    "collapsed": false
   },
   "outputs": [
    {
     "data": {
      "text/plain": [
       "'\\\\left[\\\\begin{matrix}- i w - 1 & 0 & 0 & 0 & 0\\\\\\\\0 & a - i w & 0 & 0 & 1\\\\\\\\0 & 1 & b - i w & 1 & 0\\\\\\\\0 & -1 & -1 & - i w & 0\\\\\\\\1 & 0 & -1 & 0 & 0\\\\\\\\0 & 0 & 0 & 0 & 1\\\\end{matrix}\\\\right]'"
      ]
     },
     "execution_count": 202,
     "metadata": {},
     "output_type": "execute_result"
    }
   ],
   "source": [
    "latex(T)"
   ]
  },
  {
   "cell_type": "markdown",
   "metadata": {},
   "source": [
    "# 9.2 (e)"
   ]
  },
  {
   "cell_type": "code",
   "execution_count": 208,
   "metadata": {
    "collapsed": false
   },
   "outputs": [
    {
     "name": "stdout",
     "output_type": "stream",
     "text": [
      "(5, 6)\n"
     ]
    },
    {
     "data": {
      "image/png": "[encoded data removed]",
      "text/latex": [
       "$$\\left[\\begin{matrix}- i w - 1 & 0 & 0 & 0 & 1 & 0\\\\0 & a - i w & 0 & 0 & 0 & 0\\\\0 & 1 & b - i w & 1 & 0 & 1\\\\0 & -1 & -1 & - i w & 0 & -1\\\\1 & 0 & -1 & 0 & 0 & 0\\end{matrix}\\right]$$"
      ],
      "text/plain": [
       "⎡-ⅈ⋅w - 1     0        0      0    1  0 ⎤\n",
       "⎢                                       ⎥\n",
       "⎢   0      a - ⅈ⋅w     0      0    0  0 ⎥\n",
       "⎢                                       ⎥\n",
       "⎢   0         1     b - ⅈ⋅w   1    0  1 ⎥\n",
       "⎢                                       ⎥\n",
       "⎢   0        -1       -1     -ⅈ⋅w  0  -1⎥\n",
       "⎢                                       ⎥\n",
       "⎣   1         0       -1      0    0  0 ⎦"
      ]
     },
     "execution_count": 208,
     "metadata": {},
     "output_type": "execute_result"
    }
   ],
   "source": [
    "temp = A - sympy.I*w*sympy.Matrix.eye(4)\n",
    "S_1 = temp.row_join(B_1)\n",
    "S_2 = C_2.row_join(D_21)\n",
    "S = S_1.col_join(S_2)\n",
    "print(S.shape)\n",
    "S"
   ]
  },
  {
   "cell_type": "code",
   "execution_count": 209,
   "metadata": {
    "collapsed": false
   },
   "outputs": [
    {
     "data": {
      "text/plain": [
       "'\\\\left[\\\\begin{matrix}- i w - 1 & 0 & 0 & 0 & 1 & 0\\\\\\\\0 & a - i w & 0 & 0 & 0 & 0\\\\\\\\0 & 1 & b - i w & 1 & 0 & 1\\\\\\\\0 & -1 & -1 & - i w & 0 & -1\\\\\\\\1 & 0 & -1 & 0 & 0 & 0\\\\end{matrix}\\\\right]'"
      ]
     },
     "execution_count": 209,
     "metadata": {},
     "output_type": "execute_result"
    }
   ],
   "source": [
    "latex(S)"
   ]
  },
  {
   "cell_type": "code",
   "execution_count": null,
   "metadata": {
    "collapsed": true
   },
   "outputs": [],
   "source": []
  }
 ],
 "metadata": {
  "kernelspec": {
   "display_name": "Python 2",
   "language": "python",
   "name": "python2"
  },
  "language_info": {
   "codemirror_mode": {
    "name": "ipython",
    "version": 2
   },
   "file_extension": ".py",
   "mimetype": "text/x-python",
   "name": "python",
   "nbconvert_exporter": "python",
   "pygments_lexer": "ipython2",
   "version": "2.7.6"
  }
 },
 "nbformat": 4,
 "nbformat_minor": 0
}

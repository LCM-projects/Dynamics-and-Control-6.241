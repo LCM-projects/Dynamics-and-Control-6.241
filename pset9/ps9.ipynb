{
 "cells": [
  {
   "cell_type": "code",
   "execution_count": 11,
   "metadata": {
    "collapsed": true
   },
   "outputs": [],
   "source": [
    "import sympy\n",
    "from sympy import *\n",
    "from sympy.matrices import *\n",
    "import numpy as np\n",
    "import math\n",
    "import matplotlib.pyplot as plt\n",
    "import tabulate\n",
    "%matplotlib inline  "
   ]
  },
  {
   "cell_type": "markdown",
   "metadata": {},
   "source": [
    "# Problem 9.1"
   ]
  },
  {
   "cell_type": "code",
   "execution_count": 99,
   "metadata": {
    "collapsed": false
   },
   "outputs": [],
   "source": [
    "b_0, b_1, b_2 = sympy.symbols(\"b_0, b_1 b_2\")\n",
    "C = sympy.Matrix([[b_0, b_1, b_2]])\n",
    "# C = sympy.MatrixSymbol('C', 1, 3) # C = [b_0, b_1, b_2]\n",
    "# P = sympy.MatrixSymbol('P', 3, 3)\n",
    "p_11, p_12, p_13 = sympy.symbols(\"p_11 p_12 p_13\")\n",
    "p_22, p_23 = sympy.symbols(\"p_22 p_23\")\n",
    "p_33 =  sympy.symbols(\"p_33\")\n",
    "\n",
    "P = sympy.Matrix([[0.5*p_11, p_12, p_13],[0, 0.5*p_22, p_23], [0, 0, 0.5*p_33]])\n",
    "P = P + P.transpose()\n",
    "a = sympy.symbols(\"a\")\n",
    "A = sympy.Matrix([[0,1,0], [0,0,1], [-1,-1,-a]])\n",
    "B = sympy.Matrix([[0],[0],[1]])\n",
    "Q = C.transpose()*C"
   ]
  },
  {
   "cell_type": "code",
   "execution_count": 100,
   "metadata": {
    "collapsed": false
   },
   "outputs": [],
   "source": [
    "m = P*A + A.transpose()*P\n",
    "variables = (p_11, p_12, p_13, p_22, p_23, p_33)\n",
    "eqns = []\n",
    "for i in xrange(0,3):\n",
    "    for j in xrange(i,3):\n",
    "        eqns.append(m[i,j] + Q[i,j])\n"
   ]
  },
  {
   "cell_type": "code",
   "execution_count": 101,
   "metadata": {
    "collapsed": false
   },
   "outputs": [],
   "source": [
    "soln = linsolve(eqns, variables)"
   ]
  },
  {
   "cell_type": "code",
   "execution_count": 102,
   "metadata": {
    "collapsed": false
   },
   "outputs": [
    {
     "data": {
      "text/plain": [
       "0.5*(a*b_0**2 - 2*b_0*b_2 + b_1**2 + b_2**2)/(a - 1)"
      ]
     },
     "execution_count": 102,
     "metadata": {},
     "output_type": "execute_result"
    }
   ],
   "source": [
    "# this is P_33\n",
    "soln.args[0][-1]"
   ]
  }
 ],
 "metadata": {
  "kernelspec": {
   "display_name": "Python 2",
   "language": "python",
   "name": "python2"
  },
  "language_info": {
   "codemirror_mode": {
    "name": "ipython",
    "version": 2
   },
   "file_extension": ".py",
   "mimetype": "text/x-python",
   "name": "python",
   "nbconvert_exporter": "python",
   "pygments_lexer": "ipython2",
   "version": "2.7.6"
  }
 },
 "nbformat": 4,
 "nbformat_minor": 0
}
